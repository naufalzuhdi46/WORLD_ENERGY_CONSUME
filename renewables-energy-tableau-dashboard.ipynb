{
 "cells": [
  {
   "cell_type": "markdown",
   "id": "b24170c4",
   "metadata": {
    "papermill": {
     "duration": 0.002792,
     "end_time": "2022-08-10T21:59:37.966451",
     "exception": false,
     "start_time": "2022-08-10T21:59:37.963659",
     "status": "completed"
    },
    "tags": []
   },
   "source": [
    "%%HTML\n",
    "\n",
    "<div class='tableauPlaceholder' id='viz1660168550543' style='position: relative'><noscript><a href='#'><img alt='Infographic ' src='https:&#47;&#47;public.tableau.com&#47;static&#47;images&#47;Re&#47;Renewablesenergyanalysis&#47;Infographic&#47;1_rss.png' style='border: none' /></a></noscript><object class='tableauViz'  style='display:none;'><param name='host_url' value='https%3A%2F%2Fpublic.tableau.com%2F' /> <param name='embed_code_version' value='3' /> <param name='site_root' value='' /><param name='name' value='Renewablesenergyanalysis&#47;Infographic' /><param name='tabs' value='no' /><param name='toolbar' value='yes' /><param name='static_image' value='https:&#47;&#47;public.tableau.com&#47;static&#47;images&#47;Re&#47;Renewablesenergyanalysis&#47;Infographic&#47;1.png' /> <param name='animate_transition' value='yes' /><param name='display_static_image' value='yes' /><param name='display_spinner' value='yes' /><param name='display_overlay' value='yes' /><param name='display_count' value='yes' /><param name='language' value='en-US' /></object></div>                <script type='text/javascript'>                    var divElement = document.getElementById('viz1660168550543');                    var vizElement = divElement.getElementsByTagName('object')[0];                    if ( divElement.offsetWidth > 800 ) { vizElement.style.width='1000px';vizElement.style.height='1427px';} else if ( divElement.offsetWidth > 500 ) { vizElement.style.width='1000px';vizElement.style.height='1427px';} else { vizElement.style.width='100%';vizElement.style.height='2057px';}                     var scriptElement = document.createElement('script');                    scriptElement.src = 'https://public.tableau.com/javascripts/api/viz_v1.js';                    vizElement.parentNode.insertBefore(scriptElement, vizElement);                </script>"
   ]
  },
  {
   "cell_type": "markdown",
   "id": "c55553a2",
   "metadata": {
    "papermill": {
     "duration": 0.001296,
     "end_time": "2022-08-10T21:59:37.969878",
     "exception": false,
     "start_time": "2022-08-10T21:59:37.968582",
     "status": "completed"
    },
    "tags": []
   },
   "source": [
    "Dashboard for visualization purposes only. Original dataset by **Our World in Data**: https://www.kaggle.com/datasets/pralabhpoudel/world-energy-consumption\n",
    "\n",
    "To see transformations done in the original dataset, visit https://www.kaggle.com/code/pamellabaldini/reworking-dataset-for-data-visualization\n",
    "\n",
    "If you spot any problem or have suggestions, please do not hesitate to reach me. I appreciate all opportunities to learn and improve my skills (:"
   ]
  }
 ],
 "metadata": {
  "kernelspec": {
   "display_name": "Python 3",
   "language": "python",
   "name": "python3"
  },
  "language_info": {
   "codemirror_mode": {
    "name": "ipython",
    "version": 3
   },
   "file_extension": ".py",
   "mimetype": "text/x-python",
   "name": "python",
   "nbconvert_exporter": "python",
   "pygments_lexer": "ipython3",
   "version": "3.7.12"
  },
  "papermill": {
   "default_parameters": {},
   "duration": 11.789258,
   "end_time": "2022-08-10T21:59:38.798778",
   "environment_variables": {},
   "exception": null,
   "input_path": "__notebook__.ipynb",
   "output_path": "__notebook__.ipynb",
   "parameters": {},
   "start_time": "2022-08-10T21:59:27.009520",
   "version": "2.3.4"
  }
 },
 "nbformat": 4,
 "nbformat_minor": 5
}
